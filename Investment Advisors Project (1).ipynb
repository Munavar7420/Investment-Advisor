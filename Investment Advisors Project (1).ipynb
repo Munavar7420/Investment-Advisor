{
 "cells": [
  {
   "cell_type": "code",
   "execution_count": 177,
   "metadata": {},
   "outputs": [
    {
     "name": "stdout",
     "output_type": "stream",
     "text": [
      "Defaulting to user installation because normal site-packages is not writeable\n",
      "Requirement already satisfied: pandas in c:\\programdata\\anaconda3\\lib\\site-packages (1.4.2)\n",
      "Requirement already satisfied: pytz>=2020.1 in c:\\programdata\\anaconda3\\lib\\site-packages (from pandas) (2021.3)\n",
      "Requirement already satisfied: python-dateutil>=2.8.1 in c:\\programdata\\anaconda3\\lib\\site-packages (from pandas) (2.8.2)\n",
      "Requirement already satisfied: numpy>=1.18.5 in c:\\programdata\\anaconda3\\lib\\site-packages (from pandas) (1.21.5)\n",
      "Requirement already satisfied: six>=1.5 in c:\\programdata\\anaconda3\\lib\\site-packages (from python-dateutil>=2.8.1->pandas) (1.16.0)\n"
     ]
    }
   ],
   "source": [
    "!pip install pandas"
   ]
  },
  {
   "cell_type": "code",
   "execution_count": 178,
   "metadata": {},
   "outputs": [
    {
     "name": "stdout",
     "output_type": "stream",
     "text": [
      "Defaulting to user installation because normal site-packages is not writeable\n",
      "Requirement already satisfied: numpy in c:\\programdata\\anaconda3\\lib\\site-packages (1.21.5)\n"
     ]
    }
   ],
   "source": [
    "!pip install numpy"
   ]
  },
  {
   "cell_type": "code",
   "execution_count": 179,
   "metadata": {},
   "outputs": [
    {
     "name": "stdout",
     "output_type": "stream",
     "text": [
      "Defaulting to user installation because normal site-packages is not writeable\n",
      "Requirement already satisfied: gspread in c:\\users\\munavar\\appdata\\roaming\\python\\python39\\site-packages (5.5.0)\n",
      "Requirement already satisfied: google-auth-oauthlib>=0.4.1 in c:\\users\\munavar\\appdata\\roaming\\python\\python39\\site-packages (from gspread) (0.5.2)\n",
      "Requirement already satisfied: google-auth>=1.12.0 in c:\\programdata\\anaconda3\\lib\\site-packages (from gspread) (1.33.0)\n",
      "Requirement already satisfied: pyasn1-modules>=0.2.1 in c:\\programdata\\anaconda3\\lib\\site-packages (from google-auth>=1.12.0->gspread) (0.2.8)\n",
      "Requirement already satisfied: setuptools>=40.3.0 in c:\\programdata\\anaconda3\\lib\\site-packages (from google-auth>=1.12.0->gspread) (61.2.0)\n",
      "Requirement already satisfied: rsa<5,>=3.1.4 in c:\\programdata\\anaconda3\\lib\\site-packages (from google-auth>=1.12.0->gspread) (4.7.2)\n",
      "Requirement already satisfied: cachetools<5.0,>=2.0.0 in c:\\programdata\\anaconda3\\lib\\site-packages (from google-auth>=1.12.0->gspread) (4.2.2)\n",
      "Requirement already satisfied: six>=1.9.0 in c:\\programdata\\anaconda3\\lib\\site-packages (from google-auth>=1.12.0->gspread) (1.16.0)\n",
      "Requirement already satisfied: requests-oauthlib>=0.7.0 in c:\\users\\munavar\\appdata\\roaming\\python\\python39\\site-packages (from google-auth-oauthlib>=0.4.1->gspread) (1.3.1)\n",
      "Requirement already satisfied: pyasn1<0.5.0,>=0.4.6 in c:\\programdata\\anaconda3\\lib\\site-packages (from pyasn1-modules>=0.2.1->google-auth>=1.12.0->gspread) (0.4.8)\n",
      "Requirement already satisfied: requests>=2.0.0 in c:\\programdata\\anaconda3\\lib\\site-packages (from requests-oauthlib>=0.7.0->google-auth-oauthlib>=0.4.1->gspread) (2.27.1)\n",
      "Requirement already satisfied: oauthlib>=3.0.0 in c:\\users\\munavar\\appdata\\roaming\\python\\python39\\site-packages (from requests-oauthlib>=0.7.0->google-auth-oauthlib>=0.4.1->gspread) (3.2.0)\n",
      "Requirement already satisfied: idna<4,>=2.5 in c:\\programdata\\anaconda3\\lib\\site-packages (from requests>=2.0.0->requests-oauthlib>=0.7.0->google-auth-oauthlib>=0.4.1->gspread) (3.3)\n",
      "Requirement already satisfied: certifi>=2017.4.17 in c:\\programdata\\anaconda3\\lib\\site-packages (from requests>=2.0.0->requests-oauthlib>=0.7.0->google-auth-oauthlib>=0.4.1->gspread) (2021.10.8)\n",
      "Requirement already satisfied: charset-normalizer~=2.0.0 in c:\\programdata\\anaconda3\\lib\\site-packages (from requests>=2.0.0->requests-oauthlib>=0.7.0->google-auth-oauthlib>=0.4.1->gspread) (2.0.4)\n",
      "Requirement already satisfied: urllib3<1.27,>=1.21.1 in c:\\programdata\\anaconda3\\lib\\site-packages (from requests>=2.0.0->requests-oauthlib>=0.7.0->google-auth-oauthlib>=0.4.1->gspread) (1.26.9)\n"
     ]
    }
   ],
   "source": [
    "!pip install gspread"
   ]
  },
  {
   "cell_type": "code",
   "execution_count": 180,
   "metadata": {},
   "outputs": [
    {
     "name": "stdout",
     "output_type": "stream",
     "text": [
      "Defaulting to user installation because normal site-packages is not writeable\n",
      "Requirement already satisfied: oauth2client in c:\\users\\munavar\\appdata\\roaming\\python\\python39\\site-packages (4.1.3)\n",
      "Requirement already satisfied: pyasn1>=0.1.7 in c:\\programdata\\anaconda3\\lib\\site-packages (from oauth2client) (0.4.8)\n",
      "Requirement already satisfied: pyasn1-modules>=0.0.5 in c:\\programdata\\anaconda3\\lib\\site-packages (from oauth2client) (0.2.8)\n",
      "Requirement already satisfied: rsa>=3.1.4 in c:\\programdata\\anaconda3\\lib\\site-packages (from oauth2client) (4.7.2)\n",
      "Requirement already satisfied: six>=1.6.1 in c:\\programdata\\anaconda3\\lib\\site-packages (from oauth2client) (1.16.0)\n",
      "Requirement already satisfied: httplib2>=0.9.1 in c:\\users\\munavar\\appdata\\roaming\\python\\python39\\site-packages (from oauth2client) (0.20.4)\n",
      "Requirement already satisfied: pyparsing!=3.0.0,!=3.0.1,!=3.0.2,!=3.0.3,<4,>=2.4.2 in c:\\programdata\\anaconda3\\lib\\site-packages (from httplib2>=0.9.1->oauth2client) (3.0.4)\n"
     ]
    }
   ],
   "source": [
    "!pip install oauth2client"
   ]
  },
  {
   "cell_type": "code",
   "execution_count": 181,
   "metadata": {
    "id": "vTofrIR0j_Vi"
   },
   "outputs": [],
   "source": [
    "import gspread"
   ]
  },
  {
   "cell_type": "markdown",
   "metadata": {},
   "source": [
    "## Import Service_Account"
   ]
  },
  {
   "cell_type": "code",
   "execution_count": 182,
   "metadata": {
    "id": "JsBaCtt3jr-6"
   },
   "outputs": [],
   "source": [
    "from oauth2client.service_account import ServiceAccountCredentials"
   ]
  },
  {
   "cell_type": "code",
   "execution_count": 507,
   "metadata": {
    "id": "LNiRjFsljzd8"
   },
   "outputs": [],
   "source": [
    "from oauth2client.service_account import ServiceAccountCredentials\n",
    "scope =[\"https://spreadsheets.google.com/feeds\",'https://www.googleapis.com/auth/spreadsheets',\"https://www.googleapis.com/auth/drive.file\",\"https://www.googleapis.com/auth/drive\"]\n",
    "creds =ServiceAccountCredentials.from_json_keyfile_name(\"E:/Masai Course(Data Anaytics)/Project/ML project/service_account.json\", scope)\n",
    "client = gspread.authorize(creds)"
   ]
  },
  {
   "cell_type": "markdown",
   "metadata": {},
   "source": [
    "## Import BSE500 Spreadsheet"
   ]
  },
  {
   "cell_type": "code",
   "execution_count": 639,
   "metadata": {
    "id": "b7IxfuvukDu3"
   },
   "outputs": [],
   "source": [
    "spreadsheet = client.open(\"BSE500\")\n",
    "sht1 = client.open_by_url('https://docs.google.com/spreadsheets/d/1-NUgsGhCM1IVTArPg_Lbz5bAKlcv3IRJZa0mTVqI7NI/edit#gid=138566287')"
   ]
  },
  {
   "cell_type": "code",
   "execution_count": 640,
   "metadata": {
    "id": "zUJ9Fx-JnJ4O"
   },
   "outputs": [],
   "source": [
    "worksheet = sht1.worksheet(\"bse500\")"
   ]
  },
  {
   "cell_type": "code",
   "execution_count": 641,
   "metadata": {
    "id": "ILn5nshnnNSc"
   },
   "outputs": [],
   "source": [
    "import pandas as pd"
   ]
  },
  {
   "cell_type": "code",
   "execution_count": 642,
   "metadata": {
    "id": "Vykh1AaXkDsR"
   },
   "outputs": [],
   "source": [
    "BSE = pd.DataFrame(worksheet.get_all_records())"
   ]
  },
  {
   "cell_type": "code",
   "execution_count": 643,
   "metadata": {
    "colab": {
     "base_uri": "https://localhost:8080/",
     "height": 525
    },
    "id": "UoD6d3tJkDp3",
    "outputId": "81ff9460-140e-4409-98d7-6670e8ebd993"
   },
   "outputs": [
    {
     "data": {
      "text/html": [
       "<div>\n",
       "<style scoped>\n",
       "    .dataframe tbody tr th:only-of-type {\n",
       "        vertical-align: middle;\n",
       "    }\n",
       "\n",
       "    .dataframe tbody tr th {\n",
       "        vertical-align: top;\n",
       "    }\n",
       "\n",
       "    .dataframe thead th {\n",
       "        text-align: right;\n",
       "    }\n",
       "</style>\n",
       "<table border=\"1\" class=\"dataframe\">\n",
       "  <thead>\n",
       "    <tr style=\"text-align: right;\">\n",
       "      <th></th>\n",
       "      <th>Company</th>\n",
       "      <th>BSE code</th>\n",
       "      <th>NSE code</th>\n",
       "      <th>ISIN</th>\n",
       "      <th>Sector</th>\n",
       "      <th>Industry</th>\n",
       "      <th>Date</th>\n",
       "      <th>Price</th>\n",
       "      <th>1 day change(%)</th>\n",
       "      <th>52 Week Low</th>\n",
       "      <th>...</th>\n",
       "      <th>EV / EBITDA</th>\n",
       "      <th>Price / Sales</th>\n",
       "      <th>Price / Cash Flow</th>\n",
       "      <th>Earning Per Share</th>\n",
       "      <th>Book Value Per Share</th>\n",
       "      <th>Cash Flow Per Share</th>\n",
       "      <th>Free Cash Flow Per Share</th>\n",
       "      <th>Dividend Per Share</th>\n",
       "      <th>Delta</th>\n",
       "      <th>Risk-Taking</th>\n",
       "    </tr>\n",
       "  </thead>\n",
       "  <tbody>\n",
       "    <tr>\n",
       "      <th>0</th>\n",
       "      <td>Sanofi India Ltd.</td>\n",
       "      <td>500674</td>\n",
       "      <td>SANOFI</td>\n",
       "      <td>INE058A01010</td>\n",
       "      <td>Healthcare</td>\n",
       "      <td>Drugs &amp; Pharma</td>\n",
       "      <td>2022-09-05</td>\n",
       "      <td>6158.70</td>\n",
       "      <td>0.59</td>\n",
       "      <td>6086.30</td>\n",
       "      <td>...</td>\n",
       "      <td>16.68</td>\n",
       "      <td>4.98</td>\n",
       "      <td>25.39</td>\n",
       "      <td>425.09</td>\n",
       "      <td>631.65</td>\n",
       "      <td>242.96</td>\n",
       "      <td>459.22</td>\n",
       "      <td>490.0</td>\n",
       "      <td>0.28</td>\n",
       "      <td>-</td>\n",
       "    </tr>\n",
       "    <tr>\n",
       "      <th>1</th>\n",
       "      <td>Page Industries Ltd.</td>\n",
       "      <td>532827</td>\n",
       "      <td>PAGEIND</td>\n",
       "      <td>INE761H01022</td>\n",
       "      <td>Textiles</td>\n",
       "      <td>Readymade Garments</td>\n",
       "      <td>2022-09-05</td>\n",
       "      <td>49786.20</td>\n",
       "      <td>-0.26</td>\n",
       "      <td>31500.00</td>\n",
       "      <td>...</td>\n",
       "      <td>51.79</td>\n",
       "      <td>11.75</td>\n",
       "      <td>169.84</td>\n",
       "      <td>656.83</td>\n",
       "      <td>1161.63</td>\n",
       "      <td>293.09</td>\n",
       "      <td>191.03</td>\n",
       "      <td>370.0</td>\n",
       "      <td>0.03</td>\n",
       "      <td>Low Risk Taking</td>\n",
       "    </tr>\n",
       "    <tr>\n",
       "      <th>2</th>\n",
       "      <td>Procter &amp; Gamble Hygiene &amp; Health Care Ltd.</td>\n",
       "      <td>500459</td>\n",
       "      <td>PGHH</td>\n",
       "      <td>INE179A01014</td>\n",
       "      <td>Consumer Staples</td>\n",
       "      <td>Household &amp; Personal Products</td>\n",
       "      <td>2022-09-05</td>\n",
       "      <td>14125.65</td>\n",
       "      <td>0.24</td>\n",
       "      <td>12801.00</td>\n",
       "      <td>...</td>\n",
       "      <td>52.71</td>\n",
       "      <td>12.1</td>\n",
       "      <td>53.17</td>\n",
       "      <td>177.37</td>\n",
       "      <td>227.22</td>\n",
       "      <td>265.9</td>\n",
       "      <td>270.47</td>\n",
       "      <td>315.0</td>\n",
       "      <td>0.14</td>\n",
       "      <td>-</td>\n",
       "    </tr>\n",
       "    <tr>\n",
       "      <th>3</th>\n",
       "      <td>Abbott India Ltd.</td>\n",
       "      <td>500488</td>\n",
       "      <td>ABBOTINDIA</td>\n",
       "      <td>INE358A01014</td>\n",
       "      <td>Healthcare</td>\n",
       "      <td>Drugs &amp; Pharma</td>\n",
       "      <td>2022-09-05</td>\n",
       "      <td>18209.00</td>\n",
       "      <td>-1.26</td>\n",
       "      <td>15514.00</td>\n",
       "      <td>...</td>\n",
       "      <td>30.98</td>\n",
       "      <td>7.73</td>\n",
       "      <td>40.84</td>\n",
       "      <td>380.52</td>\n",
       "      <td>1403.0</td>\n",
       "      <td>445.96</td>\n",
       "      <td>446.9</td>\n",
       "      <td>275.0</td>\n",
       "      <td>0.24</td>\n",
       "      <td>Low Risk Taking</td>\n",
       "    </tr>\n",
       "    <tr>\n",
       "      <th>4</th>\n",
       "      <td>Bosch Ltd.</td>\n",
       "      <td>500530</td>\n",
       "      <td>BOSCHLTD</td>\n",
       "      <td>INE323A01026</td>\n",
       "      <td>Automobile</td>\n",
       "      <td>Auto Ancillaries</td>\n",
       "      <td>2022-09-05</td>\n",
       "      <td>17591.10</td>\n",
       "      <td>0.13</td>\n",
       "      <td>12932.45</td>\n",
       "      <td>...</td>\n",
       "      <td>25.04</td>\n",
       "      <td>4.03</td>\n",
       "      <td>192.66</td>\n",
       "      <td>438.11</td>\n",
       "      <td>3734.33</td>\n",
       "      <td>91.29</td>\n",
       "      <td>46.68</td>\n",
       "      <td>210.0</td>\n",
       "      <td>0.09</td>\n",
       "      <td>-</td>\n",
       "    </tr>\n",
       "  </tbody>\n",
       "</table>\n",
       "<p>5 rows × 43 columns</p>\n",
       "</div>"
      ],
      "text/plain": [
       "                                       Company  BSE code    NSE code  \\\n",
       "0                            Sanofi India Ltd.    500674      SANOFI   \n",
       "1                         Page Industries Ltd.    532827     PAGEIND   \n",
       "2  Procter & Gamble Hygiene & Health Care Ltd.    500459        PGHH   \n",
       "3                            Abbott India Ltd.    500488  ABBOTINDIA   \n",
       "4                                   Bosch Ltd.    500530    BOSCHLTD   \n",
       "\n",
       "           ISIN            Sector                       Industry        Date  \\\n",
       "0  INE058A01010        Healthcare                 Drugs & Pharma  2022-09-05   \n",
       "1  INE761H01022          Textiles             Readymade Garments  2022-09-05   \n",
       "2  INE179A01014  Consumer Staples  Household & Personal Products  2022-09-05   \n",
       "3  INE358A01014        Healthcare                 Drugs & Pharma  2022-09-05   \n",
       "4  INE323A01026        Automobile               Auto Ancillaries  2022-09-05   \n",
       "\n",
       "      Price  1 day change(%)  52 Week Low  ...  EV / EBITDA Price / Sales  \\\n",
       "0   6158.70             0.59      6086.30  ...        16.68          4.98   \n",
       "1  49786.20            -0.26     31500.00  ...        51.79         11.75   \n",
       "2  14125.65             0.24     12801.00  ...        52.71          12.1   \n",
       "3  18209.00            -1.26     15514.00  ...        30.98          7.73   \n",
       "4  17591.10             0.13     12932.45  ...        25.04          4.03   \n",
       "\n",
       "  Price / Cash Flow Earning Per Share Book Value Per Share  \\\n",
       "0             25.39            425.09               631.65   \n",
       "1            169.84            656.83              1161.63   \n",
       "2             53.17            177.37               227.22   \n",
       "3             40.84            380.52               1403.0   \n",
       "4            192.66            438.11              3734.33   \n",
       "\n",
       "   Cash Flow Per Share  Free Cash Flow Per Share  Dividend Per Share Delta  \\\n",
       "0               242.96                    459.22               490.0  0.28   \n",
       "1               293.09                    191.03               370.0  0.03   \n",
       "2                265.9                    270.47               315.0  0.14   \n",
       "3               445.96                     446.9               275.0  0.24   \n",
       "4                91.29                     46.68               210.0  0.09   \n",
       "\n",
       "       Risk-Taking  \n",
       "0               -   \n",
       "1  Low Risk Taking  \n",
       "2               -   \n",
       "3  Low Risk Taking  \n",
       "4               -   \n",
       "\n",
       "[5 rows x 43 columns]"
      ]
     },
     "execution_count": 643,
     "metadata": {},
     "output_type": "execute_result"
    }
   ],
   "source": [
    "BSE.head()"
   ]
  },
  {
   "cell_type": "markdown",
   "metadata": {
    "id": "Xpq6YnGoq8as"
   },
   "source": [
    "## Import Income/Expenses Spreadsheet"
   ]
  },
  {
   "cell_type": "code",
   "execution_count": 647,
   "metadata": {
    "id": "mFcOZorEkDnP"
   },
   "outputs": [],
   "source": [
    "spreadsheet2 = client.open(\"Income_Expense\")\n",
    "sht2=client.open_by_url('https://docs.google.com/spreadsheets/d/1_uuU1Au7DjdDKqMg1v-brT9TBDWB5JtK9BmbxUpQ3AQ/edit#gid=0')"
   ]
  },
  {
   "cell_type": "code",
   "execution_count": 648,
   "metadata": {
    "id": "g3ZnSYWvn9nY"
   },
   "outputs": [],
   "source": [
    "worksheet2 = shtt2.worksheet(\"inex\")"
   ]
  },
  {
   "cell_type": "code",
   "execution_count": 649,
   "metadata": {
    "id": "He4tLNozoG1j"
   },
   "outputs": [],
   "source": [
    "Income_Ex = pd.DataFrame(worksheet2.get_all_records())"
   ]
  },
  {
   "cell_type": "code",
   "execution_count": 650,
   "metadata": {
    "colab": {
     "base_uri": "https://localhost:8080/",
     "height": 206
    },
    "id": "e7v0cVDpoMA3",
    "outputId": "1a46d3bb-fedf-4cfc-8302-d98e23b19e48"
   },
   "outputs": [
    {
     "data": {
      "text/html": [
       "<div>\n",
       "<style scoped>\n",
       "    .dataframe tbody tr th:only-of-type {\n",
       "        vertical-align: middle;\n",
       "    }\n",
       "\n",
       "    .dataframe tbody tr th {\n",
       "        vertical-align: top;\n",
       "    }\n",
       "\n",
       "    .dataframe thead th {\n",
       "        text-align: right;\n",
       "    }\n",
       "</style>\n",
       "<table border=\"1\" class=\"dataframe\">\n",
       "  <thead>\n",
       "    <tr style=\"text-align: right;\">\n",
       "      <th></th>\n",
       "      <th>Date</th>\n",
       "      <th>Account</th>\n",
       "      <th>Category</th>\n",
       "      <th>Subcategory</th>\n",
       "      <th>Note</th>\n",
       "      <th>INR</th>\n",
       "      <th>Income/Expense</th>\n",
       "      <th>Amount</th>\n",
       "      <th>Currency</th>\n",
       "    </tr>\n",
       "  </thead>\n",
       "  <tbody>\n",
       "    <tr>\n",
       "      <th>0</th>\n",
       "      <td>3/2/2022 10:11</td>\n",
       "      <td>CUB - online payment</td>\n",
       "      <td>Food</td>\n",
       "      <td></td>\n",
       "      <td>Brownie</td>\n",
       "      <td>50.0</td>\n",
       "      <td>Expense</td>\n",
       "      <td>50.0</td>\n",
       "      <td>INR</td>\n",
       "    </tr>\n",
       "    <tr>\n",
       "      <th>1</th>\n",
       "      <td>3/2/2022 10:11</td>\n",
       "      <td>CUB - online payment</td>\n",
       "      <td>Other</td>\n",
       "      <td></td>\n",
       "      <td>To lended people</td>\n",
       "      <td>250.0</td>\n",
       "      <td>Expense</td>\n",
       "      <td>300.0</td>\n",
       "      <td>INR</td>\n",
       "    </tr>\n",
       "    <tr>\n",
       "      <th>2</th>\n",
       "      <td>3/1/2022 19:50</td>\n",
       "      <td>CUB - online payment</td>\n",
       "      <td>Food</td>\n",
       "      <td></td>\n",
       "      <td>Dinner</td>\n",
       "      <td>78.0</td>\n",
       "      <td>Expense</td>\n",
       "      <td>78.0</td>\n",
       "      <td>INR</td>\n",
       "    </tr>\n",
       "    <tr>\n",
       "      <th>3</th>\n",
       "      <td>3/1/2022 18:56</td>\n",
       "      <td>CUB - online payment</td>\n",
       "      <td>Transportation</td>\n",
       "      <td></td>\n",
       "      <td>Metro</td>\n",
       "      <td>30.0</td>\n",
       "      <td>Expense</td>\n",
       "      <td>30.0</td>\n",
       "      <td>INR</td>\n",
       "    </tr>\n",
       "    <tr>\n",
       "      <th>4</th>\n",
       "      <td>3/1/2022 18:22</td>\n",
       "      <td>CUB - online payment</td>\n",
       "      <td>Food</td>\n",
       "      <td></td>\n",
       "      <td>Snacks</td>\n",
       "      <td>67.0</td>\n",
       "      <td>Expense</td>\n",
       "      <td>67.0</td>\n",
       "      <td>INR</td>\n",
       "    </tr>\n",
       "  </tbody>\n",
       "</table>\n",
       "</div>"
      ],
      "text/plain": [
       "             Date               Account        Category Subcategory  \\\n",
       "0  3/2/2022 10:11  CUB - online payment            Food               \n",
       "1  3/2/2022 10:11  CUB - online payment           Other               \n",
       "2  3/1/2022 19:50  CUB - online payment            Food               \n",
       "3  3/1/2022 18:56  CUB - online payment  Transportation               \n",
       "4  3/1/2022 18:22  CUB - online payment            Food               \n",
       "\n",
       "               Note    INR Income/Expense  Amount Currency  \n",
       "0           Brownie   50.0        Expense    50.0      INR  \n",
       "1  To lended people  250.0        Expense   300.0      INR  \n",
       "2            Dinner   78.0        Expense    78.0      INR  \n",
       "3             Metro   30.0        Expense    30.0      INR  \n",
       "4            Snacks   67.0        Expense    67.0      INR  "
      ]
     },
     "execution_count": 650,
     "metadata": {},
     "output_type": "execute_result"
    }
   ],
   "source": [
    "Income_Ex.head()"
   ]
  },
  {
   "cell_type": "markdown",
   "metadata": {
    "id": "W1x0d2OUrI2F"
   },
   "source": [
    "## Import Final Report sheet1 shpreadsheet"
   ]
  },
  {
   "cell_type": "code",
   "execution_count": 668,
   "metadata": {
    "id": "tbY9pAkDpBBx"
   },
   "outputs": [],
   "source": [
    "spreadsheet3 = client.open(\"Final Report\")\n",
    "sht3=client.open_by_url('https://docs.google.com/spreadsheets/d/1oVZk2TQ1rh6PVjZNvn_-QX58D_spTXNEZ6dcK6aD2nQ/edit#gid=699278882')"
   ]
  },
  {
   "cell_type": "code",
   "execution_count": 669,
   "metadata": {
    "id": "jaRelPZfpA4b"
   },
   "outputs": [],
   "source": [
    "worksheet3 = sht3.worksheet('Sheet1')"
   ]
  },
  {
   "cell_type": "code",
   "execution_count": 750,
   "metadata": {
    "id": "0f0GmCpypoLe"
   },
   "outputs": [],
   "source": [
    "Final_Report_sheet1 = pd.DataFrame(worksheet3.get_all_records())"
   ]
  },
  {
   "cell_type": "code",
   "execution_count": 751,
   "metadata": {
    "colab": {
     "base_uri": "https://localhost:8080/",
     "height": 708
    },
    "id": "nt_hDkJoqOZN",
    "outputId": "06ae0da5-7a40-4ad3-c8a4-92b29aeacf5d"
   },
   "outputs": [
    {
     "data": {
      "text/html": [
       "<div>\n",
       "<style scoped>\n",
       "    .dataframe tbody tr th:only-of-type {\n",
       "        vertical-align: middle;\n",
       "    }\n",
       "\n",
       "    .dataframe tbody tr th {\n",
       "        vertical-align: top;\n",
       "    }\n",
       "\n",
       "    .dataframe thead th {\n",
       "        text-align: right;\n",
       "    }\n",
       "</style>\n",
       "<table border=\"1\" class=\"dataframe\">\n",
       "  <thead>\n",
       "    <tr style=\"text-align: right;\">\n",
       "      <th></th>\n",
       "      <th>A</th>\n",
       "      <th>B</th>\n",
       "    </tr>\n",
       "  </thead>\n",
       "  <tbody>\n",
       "    <tr>\n",
       "      <th>0</th>\n",
       "      <td>Net Income</td>\n",
       "      <td>63854</td>\n",
       "    </tr>\n",
       "    <tr>\n",
       "      <th>1</th>\n",
       "      <td>Net Expense</td>\n",
       "      <td>59021</td>\n",
       "    </tr>\n",
       "    <tr>\n",
       "      <th>2</th>\n",
       "      <td></td>\n",
       "      <td></td>\n",
       "    </tr>\n",
       "    <tr>\n",
       "      <th>3</th>\n",
       "      <td>Food</td>\n",
       "      <td>24749.48</td>\n",
       "    </tr>\n",
       "    <tr>\n",
       "      <th>4</th>\n",
       "      <td>Other</td>\n",
       "      <td>46968</td>\n",
       "    </tr>\n",
       "    <tr>\n",
       "      <th>5</th>\n",
       "      <td>Transportation</td>\n",
       "      <td>9123.8</td>\n",
       "    </tr>\n",
       "    <tr>\n",
       "      <th>6</th>\n",
       "      <td>Social Life</td>\n",
       "      <td>2313.72</td>\n",
       "    </tr>\n",
       "    <tr>\n",
       "      <th>7</th>\n",
       "      <td>Household</td>\n",
       "      <td>12268</td>\n",
       "    </tr>\n",
       "    <tr>\n",
       "      <th>8</th>\n",
       "      <td>Apparel</td>\n",
       "      <td>3388</td>\n",
       "    </tr>\n",
       "    <tr>\n",
       "      <th>9</th>\n",
       "      <td>Education</td>\n",
       "      <td>1400</td>\n",
       "    </tr>\n",
       "    <tr>\n",
       "      <th>10</th>\n",
       "      <td>Salary</td>\n",
       "      <td>8000</td>\n",
       "    </tr>\n",
       "    <tr>\n",
       "      <th>11</th>\n",
       "      <td>Allowance</td>\n",
       "      <td>14000</td>\n",
       "    </tr>\n",
       "    <tr>\n",
       "      <th>12</th>\n",
       "      <td>Beauty</td>\n",
       "      <td>196</td>\n",
       "    </tr>\n",
       "    <tr>\n",
       "      <th>13</th>\n",
       "      <td>Gift</td>\n",
       "      <td>115</td>\n",
       "    </tr>\n",
       "    <tr>\n",
       "      <th>14</th>\n",
       "      <td>Petty cash</td>\n",
       "      <td>3</td>\n",
       "    </tr>\n",
       "    <tr>\n",
       "      <th>15</th>\n",
       "      <td></td>\n",
       "      <td></td>\n",
       "    </tr>\n",
       "    <tr>\n",
       "      <th>16</th>\n",
       "      <td></td>\n",
       "      <td></td>\n",
       "    </tr>\n",
       "    <tr>\n",
       "      <th>17</th>\n",
       "      <td>Available for investment</td>\n",
       "      <td>4833</td>\n",
       "    </tr>\n",
       "    <tr>\n",
       "      <th>18</th>\n",
       "      <td></td>\n",
       "      <td></td>\n",
       "    </tr>\n",
       "    <tr>\n",
       "      <th>19</th>\n",
       "      <td></td>\n",
       "      <td></td>\n",
       "    </tr>\n",
       "    <tr>\n",
       "      <th>20</th>\n",
       "      <td>Investment Profile</td>\n",
       "      <td>Low Risk Taking</td>\n",
       "    </tr>\n",
       "  </tbody>\n",
       "</table>\n",
       "</div>"
      ],
      "text/plain": [
       "                           A                B\n",
       "0                 Net Income            63854\n",
       "1                Net Expense            59021\n",
       "2                                            \n",
       "3                       Food         24749.48\n",
       "4                      Other            46968\n",
       "5             Transportation           9123.8\n",
       "6                Social Life          2313.72\n",
       "7                  Household            12268\n",
       "8                    Apparel             3388\n",
       "9                  Education             1400\n",
       "10                    Salary             8000\n",
       "11                 Allowance            14000\n",
       "12                    Beauty              196\n",
       "13                      Gift              115\n",
       "14                Petty cash                3\n",
       "15                                           \n",
       "16                                           \n",
       "17  Available for investment             4833\n",
       "18                                           \n",
       "19                                           \n",
       "20        Investment Profile  Low Risk Taking"
      ]
     },
     "execution_count": 751,
     "metadata": {},
     "output_type": "execute_result"
    }
   ],
   "source": [
    "Final_Report_sheet1"
   ]
  },
  {
   "cell_type": "markdown",
   "metadata": {
    "id": "QNvdtq0Graut"
   },
   "source": [
    "## Import Final Report Sheet2 spreadsheet"
   ]
  },
  {
   "cell_type": "code",
   "execution_count": 752,
   "metadata": {
    "id": "-2V0S8H6rjO_"
   },
   "outputs": [],
   "source": [
    "spreadsheet4 = client.open(\"Final Report\")\n",
    "sht4=client.open_by_url('https://docs.google.com/spreadsheets/d/1oVZk2TQ1rh6PVjZNvn_-QX58D_spTXNEZ6dcK6aD2nQ/edit#gid=699278882')"
   ]
  },
  {
   "cell_type": "code",
   "execution_count": 753,
   "metadata": {
    "id": "Z6ZkOSLHrmxa"
   },
   "outputs": [],
   "source": [
    "worksheet4 = spreadsheet4.worksheet('Sheet2')"
   ]
  },
  {
   "cell_type": "code",
   "execution_count": 754,
   "metadata": {
    "id": "VG1MFFBXrojX"
   },
   "outputs": [],
   "source": [
    "Final_Report_sheet2 = pd.DataFrame(worksheet4.get_all_records())"
   ]
  },
  {
   "cell_type": "code",
   "execution_count": 755,
   "metadata": {
    "colab": {
     "base_uri": "https://localhost:8080/",
     "height": 269
    },
    "id": "dmR30Xk3sCQb",
    "outputId": "634d29fa-23e9-46bb-d514-38e2a065676b"
   },
   "outputs": [
    {
     "data": {
      "text/html": [
       "<div>\n",
       "<style scoped>\n",
       "    .dataframe tbody tr th:only-of-type {\n",
       "        vertical-align: middle;\n",
       "    }\n",
       "\n",
       "    .dataframe tbody tr th {\n",
       "        vertical-align: top;\n",
       "    }\n",
       "\n",
       "    .dataframe thead th {\n",
       "        text-align: right;\n",
       "    }\n",
       "</style>\n",
       "<table border=\"1\" class=\"dataframe\">\n",
       "  <thead>\n",
       "    <tr style=\"text-align: right;\">\n",
       "      <th></th>\n",
       "      <th>S.No.</th>\n",
       "      <th>Investment Company</th>\n",
       "      <th>Amount to be invested</th>\n",
       "    </tr>\n",
       "  </thead>\n",
       "  <tbody>\n",
       "    <tr>\n",
       "      <th>0</th>\n",
       "      <td>1</td>\n",
       "      <td>Page Industries Ltd.</td>\n",
       "      <td>900</td>\n",
       "    </tr>\n",
       "    <tr>\n",
       "      <th>1</th>\n",
       "      <td>2</td>\n",
       "      <td>Abbott India Ltd.</td>\n",
       "      <td>900</td>\n",
       "    </tr>\n",
       "    <tr>\n",
       "      <th>2</th>\n",
       "      <td>3</td>\n",
       "      <td>MRF Ltd.</td>\n",
       "      <td>900</td>\n",
       "    </tr>\n",
       "    <tr>\n",
       "      <th>3</th>\n",
       "      <td>4</td>\n",
       "      <td>Bajaj Holdings &amp; Investment Ltd.</td>\n",
       "      <td>900</td>\n",
       "    </tr>\n",
       "    <tr>\n",
       "      <th>4</th>\n",
       "      <td>5</td>\n",
       "      <td>Honeywell Automation India Ltd.</td>\n",
       "      <td>900</td>\n",
       "    </tr>\n",
       "  </tbody>\n",
       "</table>\n",
       "</div>"
      ],
      "text/plain": [
       "   S.No.                Investment Company  Amount to be invested\n",
       "0      1              Page Industries Ltd.                    900\n",
       "1      2                 Abbott India Ltd.                    900\n",
       "2      3                          MRF Ltd.                    900\n",
       "3      4  Bajaj Holdings & Investment Ltd.                    900\n",
       "4      5   Honeywell Automation India Ltd.                    900"
      ]
     },
     "execution_count": 755,
     "metadata": {},
     "output_type": "execute_result"
    }
   ],
   "source": [
    "Final_Report_sheet2"
   ]
  },
  {
   "cell_type": "code",
   "execution_count": 756,
   "metadata": {
    "colab": {
     "base_uri": "https://localhost:8080/"
    },
    "id": "eqNL8e1JzJ4_",
    "outputId": "e48edb2b-717a-4058-fb53-9f54106e2d6f"
   },
   "outputs": [
    {
     "data": {
      "text/plain": [
       "112672.28"
      ]
     },
     "execution_count": 756,
     "metadata": {},
     "output_type": "execute_result"
    }
   ],
   "source": [
    "Income_Ex['Amount'].sum()"
   ]
  },
  {
   "cell_type": "markdown",
   "metadata": {
    "id": "pyEeIUPsPTR0"
   },
   "source": [
    "#  **Subtask - 1:**\n",
    "##  Populate Net Income for the given data in `sheet1` of Gsheet 3"
   ]
  },
  {
   "cell_type": "code",
   "execution_count": 651,
   "metadata": {
    "id": "u8AYJrpOL5mA"
   },
   "outputs": [],
   "source": [
    "Income_Ex1 =Income_Ex[Income_Ex['Income/Expense']=='Income']"
   ]
  },
  {
   "cell_type": "code",
   "execution_count": 652,
   "metadata": {
    "colab": {
     "base_uri": "https://localhost:8080/"
    },
    "id": "RGAHaginPAge",
    "outputId": "33b1bf74-019c-4bd4-9823-bf00fec37c5c"
   },
   "outputs": [
    {
     "data": {
      "text/plain": [
       "63854.0"
      ]
     },
     "execution_count": 652,
     "metadata": {},
     "output_type": "execute_result"
    }
   ],
   "source": [
    "Income_Ex1['INR'].sum()"
   ]
  },
  {
   "cell_type": "code",
   "execution_count": 653,
   "metadata": {
    "colab": {
     "base_uri": "https://localhost:8080/"
    },
    "id": "vSenGVsOWdVO",
    "outputId": "d8e59036-3ef2-42ff-f0e8-0bf472094bc0"
   },
   "outputs": [
    {
     "data": {
      "text/plain": [
       "{'spreadsheetId': '1oVZk2TQ1rh6PVjZNvn_-QX58D_spTXNEZ6dcK6aD2nQ',\n",
       " 'updatedRange': 'Sheet1!B2',\n",
       " 'updatedRows': 1,\n",
       " 'updatedColumns': 1,\n",
       " 'updatedCells': 1}"
      ]
     },
     "execution_count": 653,
     "metadata": {},
     "output_type": "execute_result"
    }
   ],
   "source": [
    "worksheet3.update('B2', (Income_Ex1['INR'].sum()))"
   ]
  },
  {
   "cell_type": "code",
   "execution_count": 654,
   "metadata": {
    "colab": {
     "base_uri": "https://localhost:8080/",
     "height": 35
    },
    "id": "YhNyKjAgRfDS",
    "outputId": "ede62cb9-adbc-4cd7-d79e-14e3115d33e0"
   },
   "outputs": [
    {
     "data": {
      "text/plain": [
       "'63854'"
      ]
     },
     "execution_count": 654,
     "metadata": {},
     "output_type": "execute_result"
    }
   ],
   "source": [
    "worksheet3.cell(2,2).value"
   ]
  },
  {
   "cell_type": "markdown",
   "metadata": {
    "id": "zhUEPQzCPflD"
   },
   "source": [
    "##  Populate Net Expenses for the given data in `sheet1` of Gsheet 3"
   ]
  },
  {
   "cell_type": "code",
   "execution_count": 655,
   "metadata": {
    "id": "XDD8plHHPkjH"
   },
   "outputs": [],
   "source": [
    "Income_Ex2 =Income_Ex[Income_Ex['Income/Expense']=='Expense']"
   ]
  },
  {
   "cell_type": "code",
   "execution_count": 656,
   "metadata": {
    "colab": {
     "base_uri": "https://localhost:8080/"
    },
    "id": "MkE8HrCfP_59",
    "outputId": "a9812994-8769-417a-9d90-e65ead45febb"
   },
   "outputs": [
    {
     "data": {
      "text/plain": [
       "59021.0"
      ]
     },
     "execution_count": 656,
     "metadata": {},
     "output_type": "execute_result"
    }
   ],
   "source": [
    "Income_Ex2['INR'].sum()"
   ]
  },
  {
   "cell_type": "code",
   "execution_count": 657,
   "metadata": {
    "colab": {
     "base_uri": "https://localhost:8080/"
    },
    "id": "R88oJVHQXrfy",
    "outputId": "abfbbf3e-0fcb-4302-82f7-6a936f1cfcdb"
   },
   "outputs": [
    {
     "data": {
      "text/plain": [
       "{'spreadsheetId': '1oVZk2TQ1rh6PVjZNvn_-QX58D_spTXNEZ6dcK6aD2nQ',\n",
       " 'updatedRange': 'Sheet1!B3',\n",
       " 'updatedRows': 1,\n",
       " 'updatedColumns': 1,\n",
       " 'updatedCells': 1}"
      ]
     },
     "execution_count": 657,
     "metadata": {},
     "output_type": "execute_result"
    }
   ],
   "source": [
    "worksheet3.update('B3', (Income_Ex2['INR'].sum()))"
   ]
  },
  {
   "cell_type": "markdown",
   "metadata": {
    "id": "Y-tsyLtbX2ux"
   },
   "source": [
    "## Cost incurred in different categories : Food, Other, Transportation, Social Life, Household, Apparel, Education, Salary, Allowance, Self-development, Beauty, Gift, Petty cash - for the given data in sheet1 of Gsheet 3"
   ]
  },
  {
   "cell_type": "markdown",
   "metadata": {
    "id": "-2y83z0NZPlm"
   },
   "source": [
    "### Category Food"
   ]
  },
  {
   "cell_type": "code",
   "execution_count": 608,
   "metadata": {
    "id": "60pT1wbYX6q_"
   },
   "outputs": [],
   "source": [
    "Income_Ex4 =Income_Ex[Income_Ex['Category']=='Food']"
   ]
  },
  {
   "cell_type": "code",
   "execution_count": 609,
   "metadata": {
    "colab": {
     "base_uri": "https://localhost:8080/"
    },
    "id": "ZrJ1sDhZYukY",
    "outputId": "62164945-0beb-4235-d1e1-5c2ca8bbb431"
   },
   "outputs": [
    {
     "data": {
      "text/plain": [
       "24749.48"
      ]
     },
     "execution_count": 609,
     "metadata": {},
     "output_type": "execute_result"
    }
   ],
   "source": [
    "Income_Ex4['INR'].sum()"
   ]
  },
  {
   "cell_type": "code",
   "execution_count": 610,
   "metadata": {
    "colab": {
     "base_uri": "https://localhost:8080/"
    },
    "id": "2TP5zx0cY3Gf",
    "outputId": "13b6292b-6604-42e4-b1b4-081f8d73eaef"
   },
   "outputs": [
    {
     "data": {
      "text/plain": [
       "{'spreadsheetId': '1oVZk2TQ1rh6PVjZNvn_-QX58D_spTXNEZ6dcK6aD2nQ',\n",
       " 'updatedRange': 'Sheet1!B5',\n",
       " 'updatedRows': 1,\n",
       " 'updatedColumns': 1,\n",
       " 'updatedCells': 1}"
      ]
     },
     "execution_count": 610,
     "metadata": {},
     "output_type": "execute_result"
    }
   ],
   "source": [
    "worksheet3.update('B5', (Income_Ex4['INR'].sum()))"
   ]
  },
  {
   "cell_type": "markdown",
   "metadata": {
    "id": "aGKKeMUTZUMP"
   },
   "source": [
    "### Category Other"
   ]
  },
  {
   "cell_type": "code",
   "execution_count": 611,
   "metadata": {
    "id": "Ki7vKN86ZYFd"
   },
   "outputs": [],
   "source": [
    "Income_Ex5 =Income_Ex[Income_Ex['Category']=='Other']"
   ]
  },
  {
   "cell_type": "code",
   "execution_count": 612,
   "metadata": {
    "colab": {
     "base_uri": "https://localhost:8080/"
    },
    "id": "sn1rw0CeZfPu",
    "outputId": "bc794cc5-87f5-455c-a9c7-05285dddb077"
   },
   "outputs": [
    {
     "data": {
      "text/plain": [
       "46968.0"
      ]
     },
     "execution_count": 612,
     "metadata": {},
     "output_type": "execute_result"
    }
   ],
   "source": [
    "Income_Ex5['INR'].sum()"
   ]
  },
  {
   "cell_type": "code",
   "execution_count": 661,
   "metadata": {
    "colab": {
     "base_uri": "https://localhost:8080/"
    },
    "id": "ymXDxZIwZiPq",
    "outputId": "6c4a5d63-12bf-4f3a-8c17-1ddf19507723"
   },
   "outputs": [
    {
     "data": {
      "text/plain": [
       "{'spreadsheetId': '1oVZk2TQ1rh6PVjZNvn_-QX58D_spTXNEZ6dcK6aD2nQ',\n",
       " 'updatedRange': 'Sheet1!B6',\n",
       " 'updatedRows': 1,\n",
       " 'updatedColumns': 1,\n",
       " 'updatedCells': 1}"
      ]
     },
     "execution_count": 661,
     "metadata": {},
     "output_type": "execute_result"
    }
   ],
   "source": [
    "worksheet3.update('B6', (Income_Ex5['INR'].sum()))"
   ]
  },
  {
   "cell_type": "markdown",
   "metadata": {
    "id": "uz_KH0ANafEz"
   },
   "source": [
    "### Category Transportation"
   ]
  },
  {
   "cell_type": "code",
   "execution_count": 662,
   "metadata": {
    "colab": {
     "base_uri": "https://localhost:8080/"
    },
    "id": "V9WKEZiEaoN2",
    "outputId": "adde2a8e-0306-4c92-fc2d-39374e97fbbf"
   },
   "outputs": [
    {
     "data": {
      "text/plain": [
       "{'spreadsheetId': '1oVZk2TQ1rh6PVjZNvn_-QX58D_spTXNEZ6dcK6aD2nQ',\n",
       " 'updatedRange': 'Sheet1!B7',\n",
       " 'updatedRows': 1,\n",
       " 'updatedColumns': 1,\n",
       " 'updatedCells': 1}"
      ]
     },
     "execution_count": 662,
     "metadata": {},
     "output_type": "execute_result"
    }
   ],
   "source": [
    "Income_Ex6 =Income_Ex[Income_Ex['Category']=='Transportation']\n",
    "Income_Ex6['INR'].sum()\n",
    "worksheet3.update('B7', (Income_Ex6['INR'].sum()))"
   ]
  },
  {
   "cell_type": "markdown",
   "metadata": {
    "id": "nDR0tW8UbCBk"
   },
   "source": [
    "### Category Socail Life"
   ]
  },
  {
   "cell_type": "code",
   "execution_count": 663,
   "metadata": {
    "colab": {
     "base_uri": "https://localhost:8080/"
    },
    "id": "f-XuR3elbKEY",
    "outputId": "73906ec1-dc01-4ed1-e6f4-4684037ba811"
   },
   "outputs": [
    {
     "data": {
      "text/plain": [
       "{'spreadsheetId': '1oVZk2TQ1rh6PVjZNvn_-QX58D_spTXNEZ6dcK6aD2nQ',\n",
       " 'updatedRange': 'Sheet1!B8',\n",
       " 'updatedRows': 1,\n",
       " 'updatedColumns': 1,\n",
       " 'updatedCells': 1}"
      ]
     },
     "execution_count": 663,
     "metadata": {},
     "output_type": "execute_result"
    }
   ],
   "source": [
    "Income_Ex7 =Income_Ex[Income_Ex['Category']=='Social Life']\n",
    "Income_Ex7['INR'].sum()\n",
    "worksheet3.update('B8', (Income_Ex7['INR'].sum()))"
   ]
  },
  {
   "cell_type": "markdown",
   "metadata": {
    "id": "FSAbGu3zbYN5"
   },
   "source": [
    "## Category Household"
   ]
  },
  {
   "cell_type": "code",
   "execution_count": 616,
   "metadata": {
    "colab": {
     "base_uri": "https://localhost:8080/"
    },
    "id": "8EfK7fZzbdK4",
    "outputId": "7e6438dc-372f-4281-b66a-c043ab22f19a"
   },
   "outputs": [
    {
     "data": {
      "text/plain": [
       "{'spreadsheetId': '1oVZk2TQ1rh6PVjZNvn_-QX58D_spTXNEZ6dcK6aD2nQ',\n",
       " 'updatedRange': 'Sheet1!B9',\n",
       " 'updatedRows': 1,\n",
       " 'updatedColumns': 1,\n",
       " 'updatedCells': 1}"
      ]
     },
     "execution_count": 616,
     "metadata": {},
     "output_type": "execute_result"
    }
   ],
   "source": [
    "Income_Ex8 =Income_Ex[Income_Ex['Category']=='Household']\n",
    "Income_Ex8['INR'].sum()\n",
    "worksheet3.update('B9', (Income_Ex8['INR'].sum()))"
   ]
  },
  {
   "cell_type": "markdown",
   "metadata": {
    "id": "rNp5qJYXb-BN"
   },
   "source": [
    "## Category Apparel\n"
   ]
  },
  {
   "cell_type": "code",
   "execution_count": 617,
   "metadata": {
    "colab": {
     "base_uri": "https://localhost:8080/"
    },
    "id": "PWXRZ57FcHIR",
    "outputId": "7e7cb713-09fa-4d8d-9301-a715aa707913"
   },
   "outputs": [
    {
     "data": {
      "text/plain": [
       "{'spreadsheetId': '1oVZk2TQ1rh6PVjZNvn_-QX58D_spTXNEZ6dcK6aD2nQ',\n",
       " 'updatedRange': 'Sheet1!B10',\n",
       " 'updatedRows': 1,\n",
       " 'updatedColumns': 1,\n",
       " 'updatedCells': 1}"
      ]
     },
     "execution_count": 617,
     "metadata": {},
     "output_type": "execute_result"
    }
   ],
   "source": [
    "Income_Ex9 =Income_Ex[Income_Ex['Category']=='Apparel']\n",
    "Income_Ex9['INR'].sum()\n",
    "worksheet3.update('B10', (Income_Ex9['INR'].sum()))"
   ]
  },
  {
   "cell_type": "markdown",
   "metadata": {
    "id": "fwJOa3_icT-y"
   },
   "source": [
    "## Category Education"
   ]
  },
  {
   "cell_type": "code",
   "execution_count": 618,
   "metadata": {
    "colab": {
     "base_uri": "https://localhost:8080/"
    },
    "id": "5yo7NgBvccYD",
    "outputId": "958e09dd-6cc6-4449-e0d8-6a71923d3287"
   },
   "outputs": [
    {
     "data": {
      "text/plain": [
       "{'spreadsheetId': '1oVZk2TQ1rh6PVjZNvn_-QX58D_spTXNEZ6dcK6aD2nQ',\n",
       " 'updatedRange': 'Sheet1!B11',\n",
       " 'updatedRows': 1,\n",
       " 'updatedColumns': 1,\n",
       " 'updatedCells': 1}"
      ]
     },
     "execution_count": 618,
     "metadata": {},
     "output_type": "execute_result"
    }
   ],
   "source": [
    "Income_Ex10 =Income_Ex[Income_Ex['Category']=='Education']\n",
    "Income_Ex10['INR'].sum()\n",
    "worksheet3.update('B11', (Income_Ex10['INR'].sum()))"
   ]
  },
  {
   "cell_type": "markdown",
   "metadata": {
    "id": "XCePwOspclem"
   },
   "source": [
    "## Category Salary"
   ]
  },
  {
   "cell_type": "code",
   "execution_count": 619,
   "metadata": {
    "colab": {
     "base_uri": "https://localhost:8080/"
    },
    "id": "aLOBK4wmctIt",
    "outputId": "9f17e1d3-0f83-42ef-c323-60024794174f"
   },
   "outputs": [
    {
     "data": {
      "text/plain": [
       "{'spreadsheetId': '1oVZk2TQ1rh6PVjZNvn_-QX58D_spTXNEZ6dcK6aD2nQ',\n",
       " 'updatedRange': 'Sheet1!B12',\n",
       " 'updatedRows': 1,\n",
       " 'updatedColumns': 1,\n",
       " 'updatedCells': 1}"
      ]
     },
     "execution_count": 619,
     "metadata": {},
     "output_type": "execute_result"
    }
   ],
   "source": [
    "Income_Ex11 =Income_Ex[Income_Ex['Category']=='Salary']\n",
    "Income_Ex11['INR'].sum()\n",
    "worksheet3.update('B12', (Income_Ex11['INR'].sum()))"
   ]
  },
  {
   "cell_type": "markdown",
   "metadata": {
    "id": "MfeoTfH3c2cU"
   },
   "source": [
    "## Category Allowance"
   ]
  },
  {
   "cell_type": "code",
   "execution_count": 620,
   "metadata": {
    "colab": {
     "base_uri": "https://localhost:8080/"
    },
    "id": "vN_7z_ZCc8OR",
    "outputId": "1302f35c-461b-4a72-e6aa-20e861988615"
   },
   "outputs": [
    {
     "data": {
      "text/plain": [
       "{'spreadsheetId': '1oVZk2TQ1rh6PVjZNvn_-QX58D_spTXNEZ6dcK6aD2nQ',\n",
       " 'updatedRange': 'Sheet1!B13',\n",
       " 'updatedRows': 1,\n",
       " 'updatedColumns': 1,\n",
       " 'updatedCells': 1}"
      ]
     },
     "execution_count": 620,
     "metadata": {},
     "output_type": "execute_result"
    }
   ],
   "source": [
    "Income_Ex12 =Income_Ex[Income_Ex['Category']=='Allowance']\n",
    "Income_Ex12['INR'].sum()\n",
    "worksheet3.update('B13', (Income_Ex12['INR'].sum()))"
   ]
  },
  {
   "cell_type": "markdown",
   "metadata": {
    "id": "ElXaw8qFdGLq"
   },
   "source": [
    "## Category Beauty"
   ]
  },
  {
   "cell_type": "code",
   "execution_count": 621,
   "metadata": {
    "colab": {
     "base_uri": "https://localhost:8080/"
    },
    "id": "ijPb0u3jdN1K",
    "outputId": "7f3f6f6a-1fac-4c58-86a2-3e16bfd4712d"
   },
   "outputs": [
    {
     "data": {
      "text/plain": [
       "{'spreadsheetId': '1oVZk2TQ1rh6PVjZNvn_-QX58D_spTXNEZ6dcK6aD2nQ',\n",
       " 'updatedRange': 'Sheet1!B14',\n",
       " 'updatedRows': 1,\n",
       " 'updatedColumns': 1,\n",
       " 'updatedCells': 1}"
      ]
     },
     "execution_count": 621,
     "metadata": {},
     "output_type": "execute_result"
    }
   ],
   "source": [
    "Income_Ex13 =Income_Ex[Income_Ex['Category']=='Beauty']\n",
    "Income_Ex13['INR'].sum()\n",
    "worksheet3.update('B14', (Income_Ex13['INR'].sum()))"
   ]
  },
  {
   "cell_type": "markdown",
   "metadata": {
    "id": "_kv6DhXmdVTN"
   },
   "source": [
    "## Category Gift"
   ]
  },
  {
   "cell_type": "code",
   "execution_count": 622,
   "metadata": {
    "colab": {
     "base_uri": "https://localhost:8080/"
    },
    "id": "wVGSf8yLdbaQ",
    "outputId": "f5f51a68-640c-444d-c174-fdb381ee6638"
   },
   "outputs": [
    {
     "data": {
      "text/plain": [
       "{'spreadsheetId': '1oVZk2TQ1rh6PVjZNvn_-QX58D_spTXNEZ6dcK6aD2nQ',\n",
       " 'updatedRange': 'Sheet1!B15',\n",
       " 'updatedRows': 1,\n",
       " 'updatedColumns': 1,\n",
       " 'updatedCells': 1}"
      ]
     },
     "execution_count": 622,
     "metadata": {},
     "output_type": "execute_result"
    }
   ],
   "source": [
    "Income_Ex14 =Income_Ex[Income_Ex['Category']=='Gift']\n",
    "Income_Ex14['INR'].sum()\n",
    "worksheet3.update('B15', (Income_Ex14['INR'].sum()))"
   ]
  },
  {
   "cell_type": "markdown",
   "metadata": {
    "id": "W6avw360dkXC"
   },
   "source": [
    "## Category Petty cash"
   ]
  },
  {
   "cell_type": "code",
   "execution_count": 623,
   "metadata": {
    "colab": {
     "base_uri": "https://localhost:8080/"
    },
    "id": "x6eS4lyrdqP1",
    "outputId": "b0b3db94-c877-4e7b-bc04-fbf5a1c4697a"
   },
   "outputs": [
    {
     "data": {
      "text/plain": [
       "{'spreadsheetId': '1oVZk2TQ1rh6PVjZNvn_-QX58D_spTXNEZ6dcK6aD2nQ',\n",
       " 'updatedRange': 'Sheet1!B16',\n",
       " 'updatedRows': 1,\n",
       " 'updatedColumns': 1,\n",
       " 'updatedCells': 1}"
      ]
     },
     "execution_count": 623,
     "metadata": {},
     "output_type": "execute_result"
    }
   ],
   "source": [
    "Income_Ex15 =Income_Ex[Income_Ex['Category']=='Petty cash']\n",
    "Income_Ex15['INR'].sum()\n",
    "worksheet3.update('B16', (Income_Ex15['INR'].sum()))"
   ]
  },
  {
   "cell_type": "markdown",
   "metadata": {
    "id": "nmOzcykfd8Pk"
   },
   "source": [
    "## Available for investment = Net Income - Net Expense(this has to be populated through python formula and not excel formula) "
   ]
  },
  {
   "cell_type": "code",
   "execution_count": 658,
   "metadata": {
    "id": "M83GR17MfJGG"
   },
   "outputs": [],
   "source": [
    "import numpy as np"
   ]
  },
  {
   "cell_type": "code",
   "execution_count": 672,
   "metadata": {
    "colab": {
     "base_uri": "https://localhost:8080/"
    },
    "id": "dc6CHG9uhXkq",
    "outputId": "2dd9cfd3-6892-418d-f948-8fe1d17811a1"
   },
   "outputs": [
    {
     "data": {
      "text/plain": [
       "4833"
      ]
     },
     "execution_count": 672,
     "metadata": {},
     "output_type": "execute_result"
    }
   ],
   "source": [
    "Final_Report_sheet1['B'][0]-Final_Report_sheet1['B'][1]"
   ]
  },
  {
   "cell_type": "code",
   "execution_count": 749,
   "metadata": {
    "colab": {
     "base_uri": "https://localhost:8080/"
    },
    "id": "1aTtxZ9BiGna",
    "outputId": "01aa3d4b-195f-4aa9-f792-4cefc1817309"
   },
   "outputs": [
    {
     "data": {
      "text/plain": [
       "{'spreadsheetId': '1oVZk2TQ1rh6PVjZNvn_-QX58D_spTXNEZ6dcK6aD2nQ',\n",
       " 'updatedRange': 'Sheet1!B19',\n",
       " 'updatedRows': 1,\n",
       " 'updatedColumns': 1,\n",
       " 'updatedCells': 1}"
      ]
     },
     "execution_count": 749,
     "metadata": {},
     "output_type": "execute_result"
    }
   ],
   "source": [
    "worksheet3.update('B19', Final_Report_sheet1['B'][0]-Final_Report_sheet1['B'][1])"
   ]
  },
  {
   "cell_type": "markdown",
   "metadata": {},
   "source": [
    "# Subtask 2"
   ]
  },
  {
   "cell_type": "markdown",
   "metadata": {},
   "source": [
    "## Make a new column in Gsheet 1 named “Delta” and populate it with (52 Week High - price)/(52 week High)"
   ]
  },
  {
   "cell_type": "markdown",
   "metadata": {},
   "source": [
    "### Insert Delta Column"
   ]
  },
  {
   "cell_type": "code",
   "execution_count": 757,
   "metadata": {},
   "outputs": [
    {
     "data": {
      "text/plain": [
       "{'spreadsheetId': '1-NUgsGhCM1IVTArPg_Lbz5bAKlcv3IRJZa0mTVqI7NI',\n",
       " 'updatedRange': \"'bse500'!AP1\",\n",
       " 'updatedRows': 1,\n",
       " 'updatedColumns': 1,\n",
       " 'updatedCells': 1}"
      ]
     },
     "execution_count": 757,
     "metadata": {},
     "output_type": "execute_result"
    }
   ],
   "source": [
    "worksheet.update('AP1','Delta')"
   ]
  },
  {
   "cell_type": "code",
   "execution_count": 758,
   "metadata": {},
   "outputs": [],
   "source": [
    "Delta = (BSE['52 Week High']-BSE['Price'])/(BSE['52 Week High'])"
   ]
  },
  {
   "cell_type": "code",
   "execution_count": 759,
   "metadata": {},
   "outputs": [
    {
     "data": {
      "text/plain": [
       "[[0.2790728980714641],\n",
       " [0.03327766990291268],\n",
       " [0.14215311179128418],\n",
       " [0.2392137692739963],\n",
       " [0.08617662337662345],\n",
       " [0.06547819779078713],\n",
       " [0.3928960155490767],\n",
       " [0.0564862599797097],\n",
       " [0.058612914651301196],\n",
       " [0.042379137169480226],\n",
       " [0.17847240051347885],\n",
       " [0.269594565728201],\n",
       " [0.14306772908366533],\n",
       " [0.14023188845104578],\n",
       " [0.038044306046810625],\n",
       " [0.2494332247557003],\n",
       " [0.11489345991561176],\n",
       " [0.32336562339628755],\n",
       " [0.11200000000000007],\n",
       " [0.16134109529969817],\n",
       " [0.12498034900172929],\n",
       " [0.03806735790839408],\n",
       " [0.2151151162927495],\n",
       " [0.030713748084452017],\n",
       " [0.1162031672460409],\n",
       " [0.11808331326751748],\n",
       " [0.40798525394160823],\n",
       " [0.02589388696655138],\n",
       " [0.16666666666666666],\n",
       " [0.4335533822330888],\n",
       " [0.01958762886597938],\n",
       " [0.07957729856012784],\n",
       " [0.15778235042900968],\n",
       " [0.428266958125555],\n",
       " [0.42053862894450494],\n",
       " [0.4091888825865003],\n",
       " [0.0880639400415727],\n",
       " [0.2254603880855271],\n",
       " [0.17541634139994788],\n",
       " [0.3206314643440392],\n",
       " [0.40508172362555717],\n",
       " [0.05285991551546975],\n",
       " [0.5312476226702169],\n",
       " [0.006120778054228504],\n",
       " [0.4006094305470551],\n",
       " [0.21127705889466686],\n",
       " [0.3668675889328063],\n",
       " [0.27951575710991544],\n",
       " [0.18005426356589152],\n",
       " [0.38830331817190045],\n",
       " [0.3072955465587045],\n",
       " [0.25433660933660934],\n",
       " [0.09047669009897537],\n",
       " [0.25211116229080305],\n",
       " [0.31783458646616536],\n",
       " [0.33775414278077825],\n",
       " [0.1702272190281169],\n",
       " [0.18696832279633244],\n",
       " [0.27525326677433565],\n",
       " [0.24818243075504479],\n",
       " [0.40421545667447306],\n",
       " [0.337215628090999],\n",
       " [0.1621672103066859],\n",
       " [0.27567769211638893],\n",
       " [0.35356037151702785],\n",
       " [0.44277663076837226],\n",
       " [0.23504955640521186],\n",
       " [0.05301772870510705],\n",
       " [0.03221675157241649],\n",
       " [0.3048058252427185],\n",
       " [0.3093652359809242],\n",
       " [0.2056911335154999],\n",
       " [0.10606211180124225],\n",
       " [0.40170096659022964],\n",
       " [0.2214100448007546],\n",
       " [0.04601671309192196],\n",
       " [0.49171436358680837],\n",
       " [0.060454474949588985],\n",
       " [0.09895833333333333],\n",
       " [0.29650024473813025],\n",
       " [0.13677215189873412],\n",
       " [0.02195945945945953],\n",
       " [0.059748427672955975],\n",
       " [0.06207294427317147],\n",
       " [0.07070528967254404],\n",
       " [0.3543737574552684],\n",
       " [0.036183398888227594],\n",
       " [0.04387522191224958],\n",
       " [0.133304347826087],\n",
       " [0.16100758054327227],\n",
       " [0.1116302472685451],\n",
       " [0.2965867639395519],\n",
       " [0.51885174030727],\n",
       " [0.10046305617072675],\n",
       " [0.3015963511972634],\n",
       " [0.1674249317561419],\n",
       " [0.020000000000000035],\n",
       " [0.3678104575163399],\n",
       " [0.25930212371969213],\n",
       " [0.13889534883720936],\n",
       " [0.3273675310033822],\n",
       " [0.11389868973954372],\n",
       " [0.03161423414130993],\n",
       " [0.18432382792467242],\n",
       " [0.42997696037720684],\n",
       " [0.24920634920634918],\n",
       " [0.021755552198217277],\n",
       " [0.05349289580514208],\n",
       " [0.05697185672514632],\n",
       " [0.44195030031798377],\n",
       " [0.050788091068301226],\n",
       " [0.6070736434108527],\n",
       " [0.255609756097561],\n",
       " [0.008824404761904834],\n",
       " [0.27847322842605376],\n",
       " [0.007590275429301571],\n",
       " [0.0024268163203396164],\n",
       " [0.11332375282282908],\n",
       " [0.3443076497440863],\n",
       " [0.09580585151361404],\n",
       " [0.40024038461538464],\n",
       " [0.17730239303843365],\n",
       " [0.06623112819105141],\n",
       " [0.3811122770199371],\n",
       " [0.3157219799948704],\n",
       " [0.05410754606528597],\n",
       " [0.2942399049881235],\n",
       " [0.08919402985074633],\n",
       " [0.1302877697841727],\n",
       " [0.3908787878787879],\n",
       " [0.09273469387755094],\n",
       " [0.3820726172465961],\n",
       " [0.11771531717380093],\n",
       " [0.18547149122807016],\n",
       " [0.23378990934174224],\n",
       " [0.021502590673575128],\n",
       " [0.08525929372834903],\n",
       " [0.11928066037735846],\n",
       " [0.08256410256410249],\n",
       " [0.1465772441728525],\n",
       " [0.2421801291820887],\n",
       " [0.14291591245680438],\n",
       " [0.037806761307607836],\n",
       " [0.296957456511825],\n",
       " [0.3915397896719511],\n",
       " [0.11275],\n",
       " [0.11394704277536963],\n",
       " [0.21181556195965417],\n",
       " [0.3304551178269473],\n",
       " [0.2466567164179105],\n",
       " [0.5226468506723284],\n",
       " [0.23847736625514404],\n",
       " [0.04632512315270943],\n",
       " [0.06131147540983603],\n",
       " [0.10789049919484701],\n",
       " [0.07989189189189187],\n",
       " [0.08243549367368365],\n",
       " [0.1910130718954248],\n",
       " [0.15013161043311798],\n",
       " [0.6152266823095617],\n",
       " [0.10025733942545031],\n",
       " [0.013310924369747868],\n",
       " [0.30746500777604974],\n",
       " [0.33013565891472874],\n",
       " [0.08285419920901332],\n",
       " [0.026180855510659],\n",
       " [0.050812861271676335],\n",
       " [0.059712230215827285],\n",
       " [0.018486476641471593],\n",
       " [0.09469339622641504],\n",
       " [0.3316556291390728],\n",
       " [0.03338358819728624],\n",
       " [0.15143551346258743],\n",
       " [0.011418269230769265],\n",
       " [0.16317991631799164],\n",
       " [0.10080645161290322],\n",
       " [0.02629582806573951],\n",
       " [0.10736772340660547],\n",
       " [0.4018832391713747],\n",
       " [0.01803081160168693],\n",
       " [0.15200764818355647],\n",
       " [0.056439778756067274],\n",
       " [0.2691765810895428],\n",
       " [0.23099547511312218],\n",
       " [0.05798650168728904],\n",
       " [0.19017551989804782],\n",
       " [0.3421523676426951],\n",
       " [0.14979946524064172],\n",
       " [0.6412559017941454],\n",
       " [0.35591562612069255],\n",
       " [0.15456144759989948],\n",
       " [0.05858723019038725],\n",
       " [0.22550409577819783],\n",
       " [0.5562111801242235],\n",
       " [0.4519159289045077],\n",
       " [0.240975935828877],\n",
       " [0.24061447465702784],\n",
       " [0.06589621069007663],\n",
       " [0.2724224334880979],\n",
       " [0.3794353012230107],\n",
       " [0.045585120273917056],\n",
       " [0.13483572349950682],\n",
       " [0.2760885758786482],\n",
       " [0.07975990915481533],\n",
       " [0.03019710651519578],\n",
       " [0.0530859068457739],\n",
       " [0.11300371155885472],\n",
       " [0.4848278145695364],\n",
       " [0.009317990457479601],\n",
       " [0.3739299090422686],\n",
       " [0.499160945842868],\n",
       " [0.01734693877551028],\n",
       " [0.3954792800334868],\n",
       " [0.35256679255839973],\n",
       " [0.1656862745098039],\n",
       " [0.21923229125445193],\n",
       " [0.005479452054794543],\n",
       " [0.29766666666666663],\n",
       " [0.6068994889267462],\n",
       " [0.3402910955447443],\n",
       " [0.28461998803111904],\n",
       " [0.30974923234390994],\n",
       " [0.005459508644222055],\n",
       " [0.4495177946573355],\n",
       " [0.20693020985846758],\n",
       " [0.33834876543209874],\n",
       " [0.07551589514779704],\n",
       " [0.10084864165588624],\n",
       " [0.13746341463414632],\n",
       " [0.43302238805970156],\n",
       " [0.2701680672268908],\n",
       " [0.32499999999999996],\n",
       " [0.359365400599906],\n",
       " [0.26945454545454545],\n",
       " [0.34356783919597994],\n",
       " [0.42888888888888893],\n",
       " [0.3526466836734694],\n",
       " [0.004745925215723917],\n",
       " [0.3124172185430463],\n",
       " [0.009677419354838684],\n",
       " [0.07803304416059985],\n",
       " [0.1748792270531401],\n",
       " [0.5229007633587786],\n",
       " [0.11099365750528542],\n",
       " [0.14507575757575755],\n",
       " [0.4442881040601598],\n",
       " [0.04764018345909148],\n",
       " [0.33534002229654397],\n",
       " [0.010795228628230652],\n",
       " [0.42916666666666664],\n",
       " [0.05106224375698851],\n",
       " [0.33815157116451017],\n",
       " [0.22924324639710605],\n",
       " [0.30486891385767795],\n",
       " [0.27670318384115034],\n",
       " [0.1793689320388349],\n",
       " [0.08708910891089112],\n",
       " [0.22952264073759404],\n",
       " [0.06591812275279127],\n",
       " [0.11551246537396119],\n",
       " [0.23145577151923838],\n",
       " [0.03212543554006962],\n",
       " [0.12383281458425964],\n",
       " [0.05775985751743927],\n",
       " [0.4260296846011132],\n",
       " [0.5347438752783964],\n",
       " [0.11181297597260764],\n",
       " [0.173979480462781],\n",
       " [0.11079987550575793],\n",
       " [0.011027664226637642],\n",
       " [0.30660304756041257],\n",
       " [0.25153017671951905],\n",
       " [0.3223923444976076],\n",
       " [0.32529474812433007],\n",
       " [0.05862770482707596],\n",
       " [0.11051930758988018],\n",
       " [0.007047477744807248],\n",
       " [0.38922610015174514],\n",
       " [0.02120223671947802],\n",
       " [0.04757001647446463],\n",
       " [0.07658102766798418],\n",
       " [0.31146605818596684],\n",
       " [0.23420436817472695],\n",
       " [0.3268394345777455],\n",
       " [0.37764151421476716],\n",
       " [0.2022471910112359],\n",
       " [0.04586693548387094],\n",
       " [0.020398671096345546],\n",
       " [0.12467948717948711],\n",
       " [0.15692640692640691],\n",
       " [0.1908627087198516],\n",
       " [0.30245165745856356],\n",
       " [0.09088888888888892],\n",
       " [0.19321902464242624],\n",
       " [0.04681086565512152],\n",
       " [0.24225406661502707],\n",
       " [0.3372062318457882],\n",
       " [0.35240753663642715],\n",
       " [0.041340280893060556],\n",
       " [0.20156171865984537],\n",
       " [0.28326681592524094],\n",
       " [0.26355555555555554],\n",
       " [0.11671454410043615],\n",
       " [0.20925553319919526],\n",
       " [0.07692307692307687],\n",
       " [0.01381564287305943],\n",
       " [0.22644376899696048],\n",
       " [0.2857924779107045],\n",
       " [0.017988703339882093],\n",
       " [0.3265583957972965],\n",
       " [0.12848484848484842],\n",
       " [0.1104231166150671],\n",
       " [0.3305624826821834],\n",
       " [0.34647651006711416],\n",
       " [0.5200397499665318],\n",
       " [0.4959525602409639],\n",
       " [0.12919011499877664],\n",
       " [0.15885825300754683],\n",
       " [0.025234521575985075],\n",
       " [0.39373464373464373],\n",
       " [0.15199999999999997],\n",
       " [0.37040666340029393],\n",
       " [0.387147266313933],\n",
       " [0.03094328313478681],\n",
       " [0.6450935972338142],\n",
       " [0.04441823899371074],\n",
       " [0.21715328467153283],\n",
       " [0.03712871287128713],\n",
       " [0.047784200385356475],\n",
       " [0.35721003134796236],\n",
       " [0.20667673209193096],\n",
       " [0.24479989468141133],\n",
       " [0.0817901234567901],\n",
       " [0.3286893704850362],\n",
       " [0.545641447368421],\n",
       " [0.26450892857142844],\n",
       " [0.37766400761995467],\n",
       " [0.3095571306035844],\n",
       " [0.03308094465476838],\n",
       " [0.07730307076101466],\n",
       " [0.15549116997792486],\n",
       " [0.08447067502766518],\n",
       " [0.3081108829568789],\n",
       " [0.2828260869565218],\n",
       " [0.0992063492063492],\n",
       " [0.11668769147594162],\n",
       " [0.19662683278243928],\n",
       " [0.010075528700906318],\n",
       " [0.2619187757504414],\n",
       " [0.1628787878787878],\n",
       " [0.1379184861717613],\n",
       " [0.3775390050044157],\n",
       " [0.25166666666666665],\n",
       " [0.34760348583878],\n",
       " [0.011020295711268252],\n",
       " [0.13985796715490453],\n",
       " [0.4195288753799392],\n",
       " [0.33109671448403516],\n",
       " [0.024898018648018595],\n",
       " [0.36332425713270994],\n",
       " [0.009626955475330892],\n",
       " [0.11054871892821083],\n",
       " [0.12781174299227127],\n",
       " [0.06902839281062777],\n",
       " [0.6719791944518538],\n",
       " [0.20608604407135359],\n",
       " [0.27299663299663307],\n",
       " [0.22003484320557493],\n",
       " [0.09041184041184042],\n",
       " [0.2142581888246628],\n",
       " [0.4168593545792702],\n",
       " [0.06622387184997065],\n",
       " [0.15729272912720377],\n",
       " [0.10732833237160984],\n",
       " [0.4043165319254249],\n",
       " [0.4790223708303479],\n",
       " [0.2593360995850622],\n",
       " [0.14979359150776483],\n",
       " [0.19247757073844038],\n",
       " [0.21225382932166306],\n",
       " [0.28707085463842213],\n",
       " [0.1635416666666667],\n",
       " [0.2827734276332407],\n",
       " [0.40049981488337655],\n",
       " [0.45928492676011967],\n",
       " [0.35567970204841715],\n",
       " [0.09565487274984476],\n",
       " [0.0048161823727725156],\n",
       " [0.422425952045134],\n",
       " [0.26725219573400255],\n",
       " [0.469730622472806],\n",
       " [0.21804511278195488],\n",
       " [0.46869759642258246],\n",
       " [0.07486308728349456],\n",
       " [0.23204586602293295],\n",
       " [0.24750312109862668],\n",
       " [0.3236770954036307],\n",
       " [0.22348297977306356],\n",
       " [0.2267426794506349],\n",
       " [0.5642752562225476],\n",
       " [0.3244186046511628],\n",
       " [0.3577151335311573],\n",
       " [0.6541341145833334],\n",
       " [0.41132075471698115],\n",
       " [0.30296610169491534],\n",
       " [0.16385431654676264],\n",
       " [0.3149850299401198],\n",
       " [0.22826229508196716],\n",
       " [0.09923752310536041],\n",
       " [0.041193181818181816],\n",
       " [0.17097701149425276],\n",
       " [0.026242236024844684],\n",
       " [0.1534083388484447],\n",
       " [0.4245810055865921],\n",
       " [0.43030837442094405],\n",
       " [0.10545638688441569],\n",
       " [0.013712648383135581],\n",
       " [0.22416101694915258],\n",
       " [0.18795594335574306],\n",
       " [0.2470441817050404],\n",
       " [0.3292134157316854],\n",
       " [0.23260437375745519],\n",
       " [0.08433734939759033],\n",
       " [0.49718642221818843],\n",
       " [0.11885476675185164],\n",
       " [0.373943661971831],\n",
       " [0.1372093023255814],\n",
       " [0.04088541666666664],\n",
       " [0.2806896551724138],\n",
       " [0.34315789473684216],\n",
       " [0.24663978494623656],\n",
       " [0.08540471637985982],\n",
       " [0.4693667443667444],\n",
       " [0.1587041884816754],\n",
       " [0.40837151436125024],\n",
       " [0.2148506151142355],\n",
       " [0.2913897280966767],\n",
       " [0.4501154734411086],\n",
       " [0.405467720685112],\n",
       " [0.06180461329715061],\n",
       " [0.3224637681159421],\n",
       " [0.3363984674329502],\n",
       " [0.05046728971962622],\n",
       " [0.014914772727272887],\n",
       " [0.25442032434015444],\n",
       " [0.5387953037263911],\n",
       " [0.2764227642276423],\n",
       " [0.15852482725373612],\n",
       " [0.15130252100840333],\n",
       " [0.30566364029399046],\n",
       " [0.1363295880149813],\n",
       " [0.42998846597462514],\n",
       " [0.42564559216384684],\n",
       " [0.2633264105226722],\n",
       " [0.3316589278176446],\n",
       " [0.4090865842055186],\n",
       " [0.03729603729603733],\n",
       " [0.18738019169329073],\n",
       " [0.493841059602649],\n",
       " [0.07648546144121363],\n",
       " [0.28284600389863546],\n",
       " [0.03600000000000004],\n",
       " [0.43674108891500196],\n",
       " [0.2927880386983289],\n",
       " [0.19826491747778258],\n",
       " [0.4478778853313477],\n",
       " [0.35725308641975306],\n",
       " [0.3565957446808511],\n",
       " [0.3955701678491088],\n",
       " [0.6386119680783253],\n",
       " [0.6630272108843537],\n",
       " [0.4441896589984467],\n",
       " [0.2109375],\n",
       " [0.12515520238390854],\n",
       " [0.4394487121554451],\n",
       " [0.22542175683536939],\n",
       " [0.004945822478951905],\n",
       " [0.11548701298701293],\n",
       " [0.1958199753390876],\n",
       " [0.241897233201581],\n",
       " [0.18848214285714288],\n",
       " [0.48224513172966776],\n",
       " [0.15436241610738255],\n",
       " [0.19351063829787232],\n",
       " [0.40944804557061487],\n",
       " [0.48474470734744707],\n",
       " [0.34713467048710606],\n",
       " [0.19465648854961826],\n",
       " [0.14477361654555626],\n",
       " [0.5438928019240681],\n",
       " [0.25044233553160683],\n",
       " [0.39824324324324323],\n",
       " [0.4594430992736077],\n",
       " [0.1993464052287582],\n",
       " [0.24625960372017794],\n",
       " [0.4464285714285714],\n",
       " [0.04900885085216883],\n",
       " [0.5067574433492532],\n",
       " [0.06983240223463688],\n",
       " [0.6472501478415138]]"
      ]
     },
     "execution_count": 759,
     "metadata": {},
     "output_type": "execute_result"
    }
   ],
   "source": [
    "## Make array of Delta Values\n",
    "k = [float(i) for i in Delta.values[0:500]]\n",
    "k = k[0:500]\n",
    "val = [[i] for i in k]\n",
    "val"
   ]
  },
  {
   "cell_type": "code",
   "execution_count": 760,
   "metadata": {},
   "outputs": [
    {
     "data": {
      "text/plain": [
       "{'spreadsheetId': '1-NUgsGhCM1IVTArPg_Lbz5bAKlcv3IRJZa0mTVqI7NI',\n",
       " 'totalUpdatedRows': 500,\n",
       " 'totalUpdatedColumns': 1,\n",
       " 'totalUpdatedCells': 500,\n",
       " 'totalUpdatedSheets': 1,\n",
       " 'responses': [{'spreadsheetId': '1-NUgsGhCM1IVTArPg_Lbz5bAKlcv3IRJZa0mTVqI7NI',\n",
       "   'updatedRange': \"'bse500'!AP2:AP501\",\n",
       "   'updatedRows': 500,\n",
       "   'updatedColumns': 1,\n",
       "   'updatedCells': 500}]}"
      ]
     },
     "execution_count": 760,
     "metadata": {},
     "output_type": "execute_result"
    }
   ],
   "source": [
    "## Update Worksheet with Delta Values\n",
    "worksheet.batch_update([{'range':'AP2:AP501',\n",
    "                     'values' : val }])"
   ]
  },
  {
   "cell_type": "markdown",
   "metadata": {},
   "source": [
    "### Distribute in Low, High, Medium,Risk"
   ]
  },
  {
   "cell_type": "code",
   "execution_count": 765,
   "metadata": {},
   "outputs": [],
   "source": [
    "A = BSE['Market Cap(Cr)']\n",
    "B = BSE['10-Year Return(%)']"
   ]
  },
  {
   "cell_type": "code",
   "execution_count": 766,
   "metadata": {},
   "outputs": [
    {
     "data": {
      "text/plain": [
       "{'spreadsheetId': '1-NUgsGhCM1IVTArPg_Lbz5bAKlcv3IRJZa0mTVqI7NI',\n",
       " 'updatedRange': \"'bse500'!AQ1\",\n",
       " 'updatedRows': 1,\n",
       " 'updatedColumns': 1,\n",
       " 'updatedCells': 1}"
      ]
     },
     "execution_count": 766,
     "metadata": {},
     "output_type": "execute_result"
    }
   ],
   "source": [
    "## Create Column Heading Risk-Taking\n",
    "worksheet.update(\"AQ1\",\"Risk-Taking\")"
   ]
  },
  {
   "cell_type": "code",
   "execution_count": 767,
   "metadata": {},
   "outputs": [],
   "source": [
    "## Change Datatype to Numeric\n",
    "BSE['10-Year Return(%)']  = pd.to_numeric(BSE['10-Year Return(%)'] )"
   ]
  },
  {
   "cell_type": "code",
   "execution_count": 768,
   "metadata": {},
   "outputs": [],
   "source": [
    "## Categories into High, Low, Moderate, Risk\n",
    "A = BSE['Market Cap(Cr)']\n",
    "B = BSE['10-Year Return(%)']\n",
    "Risk_Taking=[]\n",
    "for i in range(0,501):\n",
    "    if A[i]<2000 and B[i]<=8:\n",
    "        Risk_Taking.append(\"High Risk Taking\")\n",
    "    elif 2000<=A[i]<5000 and 8<B[i]<=15:\n",
    "        Risk_Taking.append(\"Risk Taking\")\n",
    "    elif 5000<=A[i]<15000 and 15<B[i]<=20:\n",
    "        Risk_Taking.append(\"Moderate Risk Taking\")\n",
    "    elif A[i]>=18000 and B[i]>20:\n",
    "        Risk_Taking.append(\"Low Risk Taking\")\n",
    "    else:\n",
    "        Risk_Taking.append(\" - \")"
   ]
  },
  {
   "cell_type": "code",
   "execution_count": null,
   "metadata": {},
   "outputs": [],
   "source": [
    "## Convert to Array\n",
    "l = [str(i) for i in Risk_Taking]\n",
    "l = l[0:501]\n",
    "val1 = [[i] for i in l]\n",
    "val1"
   ]
  },
  {
   "cell_type": "code",
   "execution_count": 770,
   "metadata": {},
   "outputs": [
    {
     "data": {
      "text/plain": [
       "{'spreadsheetId': '1-NUgsGhCM1IVTArPg_Lbz5bAKlcv3IRJZa0mTVqI7NI',\n",
       " 'totalUpdatedRows': 501,\n",
       " 'totalUpdatedColumns': 1,\n",
       " 'totalUpdatedCells': 501,\n",
       " 'totalUpdatedSheets': 1,\n",
       " 'responses': [{'spreadsheetId': '1-NUgsGhCM1IVTArPg_Lbz5bAKlcv3IRJZa0mTVqI7NI',\n",
       "   'updatedRange': \"'bse500'!AQ2:AQ502\",\n",
       "   'updatedRows': 501,\n",
       "   'updatedColumns': 1,\n",
       "   'updatedCells': 501}]}"
      ]
     },
     "execution_count": 770,
     "metadata": {},
     "output_type": "execute_result"
    }
   ],
   "source": [
    "## Update the worksheet \n",
    "worksheet.batch_update([{'range':'AQ2:AQ502', 'values' : val1 }])"
   ]
  },
  {
   "cell_type": "code",
   "execution_count": 771,
   "metadata": {},
   "outputs": [],
   "source": [
    "BSE = pd.DataFrame(worksheet.get_all_records())"
   ]
  },
  {
   "cell_type": "markdown",
   "metadata": {},
   "source": [
    "## Top 5 Companies a per given Criteria"
   ]
  },
  {
   "cell_type": "code",
   "execution_count": 772,
   "metadata": {
    "scrolled": true
   },
   "outputs": [
    {
     "data": {
      "text/plain": [
       " -                      400\n",
       "Low Risk Taking          74\n",
       "Moderate Risk Taking     23\n",
       "Risk Taking               4\n",
       "Name: Risk-Taking, dtype: int64"
      ]
     },
     "execution_count": 772,
     "metadata": {},
     "output_type": "execute_result"
    }
   ],
   "source": [
    "## Value Count\n",
    "BSE['Risk-Taking'].value_counts()"
   ]
  },
  {
   "cell_type": "markdown",
   "metadata": {},
   "source": [
    "## Low Risk Taking"
   ]
  },
  {
   "cell_type": "code",
   "execution_count": 773,
   "metadata": {},
   "outputs": [
    {
     "data": {
      "text/plain": [
       "1                 Page Industries Ltd.\n",
       "3                    Abbott India Ltd.\n",
       "8                             MRF Ltd.\n",
       "13    Bajaj Holdings & Investment Ltd.\n",
       "16     Honeywell Automation India Ltd.\n",
       "Name: Company, dtype: object"
      ]
     },
     "execution_count": 773,
     "metadata": {},
     "output_type": "execute_result"
    }
   ],
   "source": [
    "Low = BSE[BSE['Risk-Taking']=='Low Risk Taking']['Company'].head()\n",
    "Low"
   ]
  },
  {
   "cell_type": "code",
   "execution_count": 774,
   "metadata": {},
   "outputs": [
    {
     "data": {
      "text/plain": [
       "[['Page Industries Ltd.'],\n",
       " ['Abbott India Ltd.'],\n",
       " ['MRF Ltd.'],\n",
       " ['Bajaj Holdings & Investment Ltd.'],\n",
       " ['Honeywell Automation India Ltd.']]"
      ]
     },
     "execution_count": 774,
     "metadata": {},
     "output_type": "execute_result"
    }
   ],
   "source": [
    "## for Low Risk\n",
    "L = [str(i) for i in Low]\n",
    "L = L[0:6]\n",
    "valL = [[i] for i in L]\n",
    "valL"
   ]
  },
  {
   "cell_type": "markdown",
   "metadata": {},
   "source": [
    "## High Risk Taking"
   ]
  },
  {
   "cell_type": "code",
   "execution_count": 775,
   "metadata": {},
   "outputs": [
    {
     "data": {
      "text/plain": [
       "Series([], Name: Company, dtype: object)"
      ]
     },
     "execution_count": 775,
     "metadata": {},
     "output_type": "execute_result"
    }
   ],
   "source": [
    "High = BSE[BSE['Risk-Taking']=='High Risk Taking']['Company'].head()\n",
    "High"
   ]
  },
  {
   "cell_type": "code",
   "execution_count": 776,
   "metadata": {},
   "outputs": [
    {
     "data": {
      "text/plain": [
       "[]"
      ]
     },
     "execution_count": 776,
     "metadata": {},
     "output_type": "execute_result"
    }
   ],
   "source": [
    "## for High Risk\n",
    "h = [str(i) for i in High]\n",
    "h = h[0:6]\n",
    "valh = [[i] for i in h]\n",
    "valh"
   ]
  },
  {
   "cell_type": "markdown",
   "metadata": {},
   "source": [
    "## Moderate Risk Taking"
   ]
  },
  {
   "cell_type": "code",
   "execution_count": 777,
   "metadata": {},
   "outputs": [
    {
     "data": {
      "text/plain": [
       "64                              Cyient Ltd.\n",
       "129                  Birla Corporation Ltd.\n",
       "131                     Graphite India Ltd.\n",
       "151                           Symphony Ltd.\n",
       "163    Chambal Fertilisers & Chemicals Ltd.\n",
       "Name: Company, dtype: object"
      ]
     },
     "execution_count": 777,
     "metadata": {},
     "output_type": "execute_result"
    }
   ],
   "source": [
    "Moderate = BSE[BSE['Risk-Taking']=='Moderate Risk Taking']['Company'].head()\n",
    "Moderate"
   ]
  },
  {
   "cell_type": "code",
   "execution_count": 778,
   "metadata": {},
   "outputs": [
    {
     "data": {
      "text/plain": [
       "[['Cyient Ltd.'],\n",
       " ['Birla Corporation Ltd.'],\n",
       " ['Graphite India Ltd.'],\n",
       " ['Symphony Ltd.'],\n",
       " ['Chambal Fertilisers & Chemicals Ltd.']]"
      ]
     },
     "execution_count": 778,
     "metadata": {},
     "output_type": "execute_result"
    }
   ],
   "source": [
    "## for Moderate Risk\n",
    "m = [str(i) for i in Moderate]\n",
    "m = m[0:6]\n",
    "valm = [[i] for i in m]\n",
    "valm"
   ]
  },
  {
   "cell_type": "markdown",
   "metadata": {},
   "source": [
    "## Risk Taking"
   ]
  },
  {
   "cell_type": "code",
   "execution_count": 779,
   "metadata": {},
   "outputs": [
    {
     "data": {
      "text/plain": [
       "320               NCC Ltd.\n",
       "325       Tata Coffee Ltd.\n",
       "396    Greaves Cotton Ltd.\n",
       "430               FDC Ltd.\n",
       "Name: Company, dtype: object"
      ]
     },
     "execution_count": 779,
     "metadata": {},
     "output_type": "execute_result"
    }
   ],
   "source": [
    "Risk = BSE[BSE['Risk-Taking']=='Risk Taking']['Company'].head()\n",
    "Risk"
   ]
  },
  {
   "cell_type": "code",
   "execution_count": 780,
   "metadata": {},
   "outputs": [
    {
     "data": {
      "text/plain": [
       "[['NCC Ltd.'], ['Tata Coffee Ltd.'], ['Greaves Cotton Ltd.'], ['FDC Ltd.']]"
      ]
     },
     "execution_count": 780,
     "metadata": {},
     "output_type": "execute_result"
    }
   ],
   "source": [
    "## for Risk only\n",
    "r = [str(i) for i in Risk]\n",
    "r = r[0:6]\n",
    "valr = [[i] for i in r]\n",
    "valr"
   ]
  },
  {
   "cell_type": "code",
   "execution_count": 782,
   "metadata": {},
   "outputs": [
    {
     "data": {
      "text/plain": [
       "[['NA'], ['NA'], ['NA'], ['NA'], ['NA']]"
      ]
     },
     "execution_count": 782,
     "metadata": {},
     "output_type": "execute_result"
    }
   ],
   "source": [
    "## Replace value coloumn to NA if  no is listed in the selected criteria\n",
    "v=['NA','NA','NA','NA','NA']\n",
    "w = [str(i) for i in v]\n",
    "w= v[0:6]\n",
    "valv = [[i] for i in w]\n",
    "valv"
   ]
  },
  {
   "cell_type": "code",
   "execution_count": 783,
   "metadata": {},
   "outputs": [],
   "source": [
    "## Update the worksheet with Selected Dropdown List\n",
    "worksheet4.batch_update([{'range':'B2:B6', 'values' : valv}])\n",
    "if (worksheet3.cell(22,2).value == 'Low Risk Taking'):\n",
    "    worksheet4.batch_update([{'range':'B2:B6', 'values' : valL }])\n",
    "    l1=len(Low)\n",
    "elif (worksheet3.cell(22,2).value == 'High Risk Taking'):\n",
    "    worksheet4.batch_update([{'range':'B2:B6',\n",
    "                     'values' : valh }])\n",
    "    l1=len(High)\n",
    "elif (worksheet3.cell(22,2).value == 'Moderate Risk Taking'):\n",
    "    worksheet4.batch_update([{'range':'B2:B6',\n",
    "                     'values' : valm }])\n",
    "    l1=len(Moderate)\n",
    "elif (worksheet3.cell(22,2).value == 'Risk Taking'):\n",
    "    worksheet4.batch_update([{'range':'B2:B6',\n",
    "                     'values' : valr }])\n",
    "    l1=len(Risk)"
   ]
  },
  {
   "cell_type": "markdown",
   "metadata": {},
   "source": [
    "## Contribute Available Amount with the top 5 companies Equally"
   ]
  },
  {
   "cell_type": "code",
   "execution_count": 790,
   "metadata": {},
   "outputs": [],
   "source": [
    "##  Checling the count of element for each criteria w.r.t top 5\n",
    "if 0<l1<=5:\n",
    "    X = Final_Report_sheet1['B'][17]/l1\n",
    "elif l1>5:\n",
    "    X = Final_Report_sheet1['B'][17]/5\n",
    "else:\n",
    "    X=0"
   ]
  },
  {
   "cell_type": "code",
   "execution_count": 791,
   "metadata": {},
   "outputs": [
    {
     "data": {
      "text/plain": [
       "['NA', 'NA', 'NA', 'NA', 'NA']"
      ]
     },
     "execution_count": 791,
     "metadata": {},
     "output_type": "execute_result"
    }
   ],
   "source": [
    "## Replace value coloumn to NA if  no is listed in the selected criteria\n",
    "p=['NA','NA','NA','NA','NA']\n",
    "u = [i for i in p]\n",
    "u= u[0:6]\n",
    "valu = [i for i in u]\n",
    "valu"
   ]
  },
  {
   "cell_type": "code",
   "execution_count": 792,
   "metadata": {},
   "outputs": [],
   "source": [
    "## Checking equal amount to invest coloumn w.r.t no.of.companies\n",
    "if 0<l1<=5:\n",
    "    Available = np.ones(l1,dtype=int)*int(X)\n",
    "elif l1>5:\n",
    "    Available = np.ones(5,dtype=int)*int(X)\n",
    "else:\n",
    "    Available=valu"
   ]
  },
  {
   "cell_type": "code",
   "execution_count": 793,
   "metadata": {},
   "outputs": [
    {
     "data": {
      "text/plain": [
       "[['966'], ['966'], ['966'], ['966'], ['966']]"
      ]
     },
     "execution_count": 793,
     "metadata": {},
     "output_type": "execute_result"
    }
   ],
   "source": [
    "## disteibute equal amount to invest coloumn w.r.t no.of.companies\n",
    "Z = [str(i) for i in Available]\n",
    "Z = Z[0:6]\n",
    "valZ = [[i] for i in Z]\n",
    "valZ"
   ]
  },
  {
   "cell_type": "code",
   "execution_count": 794,
   "metadata": {},
   "outputs": [
    {
     "data": {
      "text/plain": [
       "{'spreadsheetId': '1oVZk2TQ1rh6PVjZNvn_-QX58D_spTXNEZ6dcK6aD2nQ',\n",
       " 'totalUpdatedRows': 5,\n",
       " 'totalUpdatedColumns': 1,\n",
       " 'totalUpdatedCells': 5,\n",
       " 'totalUpdatedSheets': 1,\n",
       " 'responses': [{'spreadsheetId': '1oVZk2TQ1rh6PVjZNvn_-QX58D_spTXNEZ6dcK6aD2nQ',\n",
       "   'updatedRange': 'Sheet2!C2:C6',\n",
       "   'updatedRows': 5,\n",
       "   'updatedColumns': 1,\n",
       "   'updatedCells': 5}]}"
      ]
     },
     "execution_count": 794,
     "metadata": {},
     "output_type": "execute_result"
    }
   ],
   "source": [
    "## update worksheet with invest amount\n",
    "worksheet4.batch_update([{'range':'C2:C6','values':valZ}])"
   ]
  },
  {
   "cell_type": "code",
   "execution_count": null,
   "metadata": {},
   "outputs": [],
   "source": []
  }
 ],
 "metadata": {
  "colab": {
   "provenance": []
  },
  "kernelspec": {
   "display_name": "Python 3 (ipykernel)",
   "language": "python",
   "name": "python3"
  },
  "language_info": {
   "codemirror_mode": {
    "name": "ipython",
    "version": 3
   },
   "file_extension": ".py",
   "mimetype": "text/x-python",
   "name": "python",
   "nbconvert_exporter": "python",
   "pygments_lexer": "ipython3",
   "version": "3.9.12"
  }
 },
 "nbformat": 4,
 "nbformat_minor": 1
}
